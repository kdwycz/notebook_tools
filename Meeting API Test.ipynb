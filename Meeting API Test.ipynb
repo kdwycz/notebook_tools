{
 "cells": [
  {
   "cell_type": "code",
   "execution_count": 1,
   "metadata": {
    "collapsed": false
   },
   "outputs": [],
   "source": [
    "import requests\n",
    "import json\n",
    "from pprint import pprint"
   ]
  },
  {
   "cell_type": "code",
   "execution_count": 145,
   "metadata": {
    "collapsed": false
   },
   "outputs": [],
   "source": [
    "ROOT_URL = 'http://127.0.0.1:8000'\n",
    "PHONE = '手机号'\n",
    "PASSWORD = '密码'\n",
    "COOKIES = {}\n",
    "\n",
    "def login():\n",
    "    s = requests.get(ROOT_URL)\n",
    "    COOKIES['csrftoken'] = s.cookies.get('csrftoken')\n",
    "    data = {'phone': PHONE, 'password': PASSWORD}\n",
    "    s = requests.post(ROOT_URL + '/api/setting/login/', data=json.dumps(data))\n",
    "    COOKIES['sessionid'] = s.cookies.get('sessionid')\n",
    "login()"
   ]
  },
  {
   "cell_type": "code",
   "execution_count": 146,
   "metadata": {
    "collapsed": false
   },
   "outputs": [],
   "source": [
    "def get(url, payload={}):\n",
    "    s = requests.get(ROOT_URL + url, params=payload, cookies=COOKIES)\n",
    "    pprint(s.json())\n",
    "\n",
    "def delete(url):\n",
    "    s = requests.delete(url, cookies=COOKIES)\n",
    "    pprint(s.json())\n",
    "\n",
    "def put(url, payload={}):\n",
    "    s = requests.put(url, data=json.dumps(payload), cookies=COOKIES)\n",
    "    pprint(s.json())\n",
    "\n",
    "def post(url, payload={}):\n",
    "    s = requests.post(ROOT_URL + url, data=json.dumps(payload), cookies=COOKIES)\n",
    "    pprint(s.json())"
   ]
  },
  {
   "cell_type": "code",
   "execution_count": 147,
   "metadata": {
    "collapsed": false
   },
   "outputs": [
    {
     "name": "stdout",
     "output_type": "stream",
     "text": [
      "{'data': {}, 'info': '', 'msg': '需要登录', 'status': 403}\n"
     ]
    }
   ],
   "source": [
    "data = {'bank_id': 6}\n",
    "post('/api/setting/projects/2/banks/', data)"
   ]
  },
  {
   "cell_type": "code",
   "execution_count": 148,
   "metadata": {
    "collapsed": false
   },
   "outputs": [
    {
     "name": "stdout",
     "output_type": "stream",
     "text": [
      "{'data': {}, 'info': '', 'msg': '需要登录', 'status': 403}\n"
     ]
    }
   ],
   "source": [
    "data = {'module': 'order'}\n",
    "get('/api/setting/permissions/projects/', data)"
   ]
  },
  {
   "cell_type": "code",
   "execution_count": null,
   "metadata": {
    "collapsed": true
   },
   "outputs": [],
   "source": []
  }
 ],
 "metadata": {
  "kernelspec": {
   "display_name": "Python 3",
   "language": "python",
   "name": "python3"
  },
  "language_info": {
   "codemirror_mode": {
    "name": "ipython",
    "version": 3
   },
   "file_extension": ".py",
   "mimetype": "text/x-python",
   "name": "python",
   "nbconvert_exporter": "python",
   "pygments_lexer": "ipython3",
   "version": "3.5.0"
  }
 },
 "nbformat": 4,
 "nbformat_minor": 0
}
